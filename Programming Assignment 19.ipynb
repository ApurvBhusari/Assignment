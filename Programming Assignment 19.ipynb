{
 "cells": [
  {
   "cell_type": "code",
   "execution_count": null,
   "id": "bf84cf74",
   "metadata": {},
   "outputs": [],
   "source": [
    "#Create a function that takes a string and returns a string in which each character is repeatedonce.\n",
    "def func(a):\n",
    "    b=''\n",
    "    for i in a:\n",
    "        b=b+(i*2)\n",
    "    return b        \n",
    "        \n",
    "        \n",
    "        \n",
    "            \n",
    "        \n",
    "    "
   ]
  },
  {
   "cell_type": "code",
   "execution_count": null,
   "id": "b4474530",
   "metadata": {},
   "outputs": [],
   "source": [
    "#Create a function that reverses a boolean value and returns the string boolean expected if another variable type is given.\n",
    "def func(a):\n",
    "    if type(a)==bool:\n",
    "        if a==True:\n",
    "            return False\n",
    "        else :\n",
    "            return True\n",
    "    else :\n",
    "        print(\"boolean expected\")\n",
    "    "
   ]
  },
  {
   "cell_type": "code",
   "execution_count": null,
   "id": "31a95b2d",
   "metadata": {},
   "outputs": [],
   "source": [
    "#Create a function that returns the thickness (in meters) of a piece of paper after folding it nnumber of times. The paper starts off with a thickness of 0.5mm.\n",
    "def func(n):\n",
    "    a=0.5\n",
    "    b=1\n",
    "    for i in range(n):\n",
    "        a=a*2\n",
    "    c=a/1000 \n",
    "    return c        \n",
    "    \n",
    "        \n",
    "        \n",
    "        \n",
    "        \n",
    "        "
   ]
  },
  {
   "cell_type": "code",
   "execution_count": null,
   "id": "a16238e3",
   "metadata": {},
   "outputs": [],
   "source": [
    "#Create a function that takes a single string as argument and returns an ordered list containing the indices of all capital letters in the string.\n",
    "def ord_list(a):\n",
    "    if type(a)==str:\n",
    "        b=[]\n",
    "        for i in a:\n",
    "            if i.isupper()==True:\n",
    "                b.append(a.index(i))\n",
    "        return b\n",
    "    else:\n",
    "        print(\"enter only string\")\n",
    "        \n",
    "        "
   ]
  },
  {
   "cell_type": "code",
   "execution_count": 1,
   "id": "09ca7db4",
   "metadata": {},
   "outputs": [],
   "source": [
    "#Using list comprehensions, create a function that finds all even numbers from 1 to the given number.\n",
    "def list_com(a):\n",
    "    l=[i for i in range(1,a+1) if i%2==0]\n",
    "    return l\n"
   ]
  },
  {
   "cell_type": "code",
   "execution_count": null,
   "id": "bcb441ac",
   "metadata": {},
   "outputs": [],
   "source": []
  },
  {
   "cell_type": "code",
   "execution_count": null,
   "id": "5142e5a1",
   "metadata": {},
   "outputs": [],
   "source": []
  }
 ],
 "metadata": {
  "kernelspec": {
   "display_name": "Python 3",
   "language": "python",
   "name": "python3"
  },
  "language_info": {
   "codemirror_mode": {
    "name": "ipython",
    "version": 3
   },
   "file_extension": ".py",
   "mimetype": "text/x-python",
   "name": "python",
   "nbconvert_exporter": "python",
   "pygments_lexer": "ipython3",
   "version": "3.8.8"
  }
 },
 "nbformat": 4,
 "nbformat_minor": 5
}
