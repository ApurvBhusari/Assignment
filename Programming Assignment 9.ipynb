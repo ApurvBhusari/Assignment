{
 "cells": [
  {
   "cell_type": "code",
   "execution_count": null,
   "id": "8c7568e0",
   "metadata": {},
   "outputs": [],
   "source": [
    "#1. Write a Python program to check if the given number is a Disarium Number?\n",
    "def dis(n):\n",
    "    a=str(n)\n",
    "    b=[i for i in a]\n",
    "    d=0\n",
    "    for i in range(0,len(b)):\n",
    "        c=int(b[i])**(i+1)\n",
    "        print(c)\n",
    "        d=d+c\n",
    "    if d==n:\n",
    "        return \"it is a disarium number\"\n",
    "    else :\n",
    "        return \"it is not a disarium number\""
   ]
  },
  {
   "cell_type": "code",
   "execution_count": null,
   "id": "f099c2c9",
   "metadata": {},
   "outputs": [],
   "source": [
    "#2. Write a Python program to print all disarium numbers between 1 to 100?\n",
    "def dis1(n):\n",
    "    e=[]\n",
    "    for i in range(1,n+1):\n",
    "        a=str(i)\n",
    "        b=[w for w in a]\n",
    "        d=0\n",
    "        for v in b:\n",
    "            c=(int(v)**(b.index(v)+1))\n",
    "            d=d+c\n",
    "            if d==i:\n",
    "                e.append(d)\n",
    "    return e            \n",
    "    \n"
   ]
  },
  {
   "cell_type": "code",
   "execution_count": null,
   "id": "c40acfdd",
   "metadata": {},
   "outputs": [],
   "source": [
    "#3. Write a Python program to check if the given number is Happy Number?\n",
    "def Happy(n):    \n",
    "    r = s = 0;    \n",
    "    while(n > 0):    \n",
    "        r = n%10\n",
    "        s += r**2\n",
    "        n //= 10 \n",
    "    return s  \n",
    "        \n",
    "n = int(input())    \n",
    "res = n;    \n",
    "     \n",
    "while(res != 1 and res != 4):    \n",
    "    res = isHappy(res)    \n",
    "     \n",
    "if(res == 1):    \n",
    "    print(\"happy number\")\n",
    "elif(res == 4):    \n",
    "    print(\"not a happy number\") \n"
   ]
  },
  {
   "cell_type": "code",
   "execution_count": null,
   "id": "a92cc9ee",
   "metadata": {},
   "outputs": [],
   "source": [
    "#4. Write a Python program to print all happy numbers between 1 and 100?\n",
    "def HappyNumbers(num):\n",
    "    rem = sum = 0;\n",
    "    while(num > 0):\n",
    "        rem = num%10;\n",
    "        sum = sum + (rem*rem);\n",
    "        num = num//10;\n",
    "    return sum;\n",
    "print(\"“List of happy numbers between 1 and 100: “\");\n",
    "for i in range(1, 101):\n",
    "    result = i;\n",
    "    while(result != 1 and result != 4):\n",
    "        result = HappyNumbers(result)\n",
    "    if(result == 1):\n",
    "        print(i)\n",
    "    \n",
    "    \n",
    "\n"
   ]
  },
  {
   "cell_type": "code",
   "execution_count": null,
   "id": "a822788f",
   "metadata": {},
   "outputs": [],
   "source": [
    "#5. Write a Python program to determine whether the given number is a Harshad Number?\n",
    "def harshad(n):\n",
    "    d=0\n",
    "    for i in str(n):\n",
    "        c=int(i)\n",
    "        d=d+c\n",
    "    if n%d==0:\n",
    "        print(\"the given number is harshad number\")\n",
    "    else:\n",
    "        print(\"it is not a harshad number\")"
   ]
  },
  {
   "cell_type": "code",
   "execution_count": null,
   "id": "7a175106",
   "metadata": {},
   "outputs": [],
   "source": [
    "#6. Write a Python program to print all pronic numbers between 1 and 100?\n",
    "def pronic(n):\n",
    "    d=0\n",
    "    e=[]\n",
    "    for i in range(1,n+1):\n",
    "        d=i*(i+1)\n",
    "        if d<=n:\n",
    "            e.append(d)\n",
    "    return e        \n",
    "         \n",
    "        \n",
    "        \n",
    "       \n",
    "        \n",
    "        \n",
    "        \n",
    "        \n",
    "           \n",
    "\n"
   ]
  },
  {
   "cell_type": "code",
   "execution_count": null,
   "id": "97ef1975",
   "metadata": {},
   "outputs": [],
   "source": []
  }
 ],
 "metadata": {
  "kernelspec": {
   "display_name": "Python 3",
   "language": "python",
   "name": "python3"
  },
  "language_info": {
   "codemirror_mode": {
    "name": "ipython",
    "version": 3
   },
   "file_extension": ".py",
   "mimetype": "text/x-python",
   "name": "python",
   "nbconvert_exporter": "python",
   "pygments_lexer": "ipython3",
   "version": "3.8.8"
  }
 },
 "nbformat": 4,
 "nbformat_minor": 5
}
