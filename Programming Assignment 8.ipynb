{
 "cells": [
  {
   "cell_type": "code",
   "execution_count": 3,
   "id": "03674916",
   "metadata": {},
   "outputs": [],
   "source": [
    "#1. Write a Python Program to Add Two Matrices?\n",
    "def matrice(n,m):\n",
    "    x=[[0,0,0],\n",
    "       [0,0,0],\n",
    "       [0,0,0]]\n",
    "    for i in range(len(n)):\n",
    "        for j in range(len(n[0])):\n",
    "            x[i][j]=n[i][j]+m[i][j]\n",
    "    return x        \n",
    "            \n",
    "    \n",
    "    "
   ]
  },
  {
   "cell_type": "code",
   "execution_count": 5,
   "id": "09436df9",
   "metadata": {},
   "outputs": [],
   "source": [
    "#2. Write a Python Program to Multiply Two Matrices?\n",
    "# Program to multiply two matrices using nested loops\n",
    "X = [[12,7,3],\n",
    "    [4 ,5,6],\n",
    "    [7 ,8,9]]\n",
    "Y = [[5,8,1,2],\n",
    "    [6,7,3,0],\n",
    "    [4,5,9,1]]\n",
    "\n",
    "result = [[0,0,0,0],\n",
    "         [0,0,0,0],\n",
    "         [0,0,0,0]]\n",
    "\n",
    "for i in range(len(X)):\n",
    "    for j in range(len(Y[0])):\n",
    "        for k in range(len(Y)):\n",
    "            result[i][j] += X[i][k] * Y[k][j]\n",
    "\n",
    "for r in result:\n",
    "    print(r)\n",
    "    \n"
   ]
  },
  {
   "cell_type": "code",
   "execution_count": null,
   "id": "584eb3b1",
   "metadata": {},
   "outputs": [],
   "source": [
    "#3. Write a Python Program to Transpose a Matrix?\n",
    "def matrice3(n):\n",
    "    x=[[0,0,0],\n",
    "       [0,0,0]]\n",
    "    x[j][i]=n[i][j]\n",
    "    return x \n"
   ]
  },
  {
   "cell_type": "code",
   "execution_count": null,
   "id": "ae61e772",
   "metadata": {},
   "outputs": [],
   "source": [
    "#4. Write a Python Program to Sort Words in Alphabetic Order?\n",
    "def sortw(n):\n",
    "    return sorted(n)\n",
    "\n"
   ]
  },
  {
   "cell_type": "code",
   "execution_count": 36,
   "id": "e6cd32e2",
   "metadata": {},
   "outputs": [],
   "source": [
    "#5. Write a Python Program to Remove Punctuation From a String?\n",
    "def pun(n):\n",
    "    a=''\n",
    "    b='''!()-[]{};:'\"\\,<>./?@#$%^&*_~'''\n",
    "    for i in n:\n",
    "        if i not in b:\n",
    "            a=a+i\n",
    "    return a        "
   ]
  },
  {
   "cell_type": "code",
   "execution_count": null,
   "id": "5cc5429c",
   "metadata": {},
   "outputs": [],
   "source": []
  }
 ],
 "metadata": {
  "kernelspec": {
   "display_name": "Python 3",
   "language": "python",
   "name": "python3"
  },
  "language_info": {
   "codemirror_mode": {
    "name": "ipython",
    "version": 3
   },
   "file_extension": ".py",
   "mimetype": "text/x-python",
   "name": "python",
   "nbconvert_exporter": "python",
   "pygments_lexer": "ipython3",
   "version": "3.8.8"
  }
 },
 "nbformat": 4,
 "nbformat_minor": 5
}
