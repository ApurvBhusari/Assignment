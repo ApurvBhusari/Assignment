{
 "cells": [
  {
   "cell_type": "code",
   "execution_count": null,
   "id": "32053e82",
   "metadata": {},
   "outputs": [],
   "source": [
    "#Define a class with a generator which can iterate the numbers, which are divisible by 7, between a given range 0 and n.\n",
    "class gen():\n",
    "    def gen1(self,a):\n",
    "        for i in range(0,a+1):\n",
    "            if i%7==0:\n",
    "                yield i\n",
    "r=gen()\n",
    "r.gen1(70)\n",
    "for i in r.gen1(70):\n",
    "    print(i)\n"
   ]
  },
  {
   "cell_type": "code",
   "execution_count": null,
   "id": "719abea7",
   "metadata": {},
   "outputs": [],
   "source": [
    "#Write a program to compute the frequency of the words from the input. The output should output after sorting the key alphanumerically.\n",
    "import operator\n",
    "text_line = input(\"Type in: \")\n",
    "freq_dict = {}\n",
    "for i in text_line.split(' '):\n",
    "    if i.isalpha():\n",
    "        if i not in freq_dict:\n",
    "            freq_dict[i] = 1\n",
    "        elif i in freq_dict:\n",
    "            freq_dict[i] = freq_dict[i] + 1\n",
    "    else:\n",
    "        pass\n",
    "\n",
    "sorted_freq_dict = sorted(freq_dict.items(), key = operator.itemgetter(0))\n",
    "print(sorted_freq_dict)\n",
    "\n",
    "for i in sorted_freq_dict:\n",
    "    print(i[0], i[1])\n",
    "\n",
    "\n"
   ]
  },
  {
   "cell_type": "code",
   "execution_count": null,
   "id": "f34edd58",
   "metadata": {},
   "outputs": [],
   "source": [
    "#Define a class Person and its two child classes: Male and Female. All classes have amethod &quot;getGender&quot; which can print &quot;Male&quot; for Male class and &quot;Female&quot; for Femaleclass.\n",
    "class Person():\n",
    "    def getgender(self):\n",
    "        return \"\"\n",
    "class male(Person):\n",
    "    def getgender(self):\n",
    "        return \"male\"\n",
    "class female(Person):\n",
    "    def getgender(self):\n",
    "        return \"female\"\n",
    "a=male()\n",
    "b=female()\n",
    "a.getgender()\n",
    "b.getgender()    \n",
    "        \n",
    "    \n"
   ]
  },
  {
   "cell_type": "code",
   "execution_count": null,
   "id": "6868174f",
   "metadata": {},
   "outputs": [],
   "source": [
    "#Please write a program to generate all sentences where subject is in [&quot;I&quot;, &quot;You&quot;] and verb is in [&quot;Play&quot;, &quot;Love&quot;] and the object is in [&quot;Hockey&quot;,&quot;Football&quot;].\n",
    "subjects=[\"I\", \"You\"]\n",
    "verbs=[\"Play\", \"Love\"]\n",
    "objects=[\"Hockey\",\"Football\"]\n",
    "\n",
    "for i in subjects:\n",
    "    for j in verbs:\n",
    "        for k in objects:\n",
    "            print(\"{}  {}  {}\".format(i,j,k))"
   ]
  },
  {
   "cell_type": "code",
   "execution_count": null,
   "id": "2404d27d",
   "metadata": {},
   "outputs": [],
   "source": [
    "#Please write a program to compress and decompress the string &quot;hello world!hello world!hello world!hello world!&quot;.\n",
    "import zlib\n",
    "s = 'hello world!hello world!hello world!hello world!'\n",
    "y = bytes(s, 'utf-8')\n",
    "x = zlib.compress(y)\n",
    "print(x)\n",
    "print(zlib.decompress(x))"
   ]
  },
  {
   "cell_type": "code",
   "execution_count": null,
   "id": "6bac8905",
   "metadata": {},
   "outputs": [],
   "source": [
    "#Please write a binary search function which searches an item in a sorted list. The function should return the index of element to be searched in the list.\n",
    "def binary_search(lst, item):\n",
    "    low = 0\n",
    "    high = len(lst) - 1\n",
    "    \n",
    "    while low <= high:\n",
    "        mid = round((low + high) / 2)\n",
    "        \n",
    "        if lst[mid] == item:\n",
    "            return mid\n",
    "        elif lst[mid] > item:\n",
    "            high = mid - 1\n",
    "        else:\n",
    "            low = mid + 1\n",
    "    return None\n",
    "    \n",
    "lst = [1,3,5,7,]\n",
    "print(binary_search(lst, 9))   \n",
    "        \n",
    "        \n",
    "        \n",
    "        \n",
    "        \n",
    "    \n",
    "    \n",
    "        \n",
    "        \n",
    "        \n",
    "        \n",
    "        \n",
    "\n",
    "\n"
   ]
  }
 ],
 "metadata": {
  "kernelspec": {
   "display_name": "Python 3",
   "language": "python",
   "name": "python3"
  },
  "language_info": {
   "codemirror_mode": {
    "name": "ipython",
    "version": 3
   },
   "file_extension": ".py",
   "mimetype": "text/x-python",
   "name": "python",
   "nbconvert_exporter": "python",
   "pygments_lexer": "ipython3",
   "version": "3.8.8"
  }
 },
 "nbformat": 4,
 "nbformat_minor": 5
}
