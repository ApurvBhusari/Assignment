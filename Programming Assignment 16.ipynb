{
 "cells": [
  {
   "cell_type": "code",
   "execution_count": null,
   "id": "17e9467a",
   "metadata": {},
   "outputs": [],
   "source": [
    "#Question1. Write a function that stutters a word as if someone is struggling to read it. The first two letters are repeated twice with an ellipsis ... and space after each, and then theword is pronounced with a question mark.\n",
    "\n",
    "def stutter(a):\n",
    "    return(a[0:2]+\" \"+a[0:2]+\" \" + a +\"?\")        \n",
    "\n",
    "    \n",
    "\n"
   ]
  },
  {
   "cell_type": "code",
   "execution_count": null,
   "id": "ee457b54",
   "metadata": {},
   "outputs": [],
   "source": [
    "#Question 2.Create a function that takes an angle in radians and returns the corresponding angle in degrees rounded to one decimal place.\n",
    "def rad_to_angle(radian):\n",
    "    pi = 3.14159\n",
    "    a = radian * (180/pi)\n",
    "    b=\"Floating point {0:.1f}\".format(a)\n",
    "    return b\n",
    "    \n"
   ]
  },
  {
   "cell_type": "code",
   "execution_count": 1,
   "id": "a59cc4b2",
   "metadata": {},
   "outputs": [],
   "source": [
    "#Question 3. In this challenge, establish if a given integer num is a Curzon number. If 1 plus 2 elevated to num is exactly divisible by 1 plus 2 multiplied by num, then num is a Curzonnumber.Given a non-negative integer num, implement a function that returns True if num is a Curzonnumber, or False otherwise.\n",
    "def curzon(a):\n",
    "    if(( 2**a +1) % (2*a +1))==0:\n",
    "        print(True)\n",
    "    else:\n",
    "        print(False)\n",
    "\n"
   ]
  },
  {
   "cell_type": "code",
   "execution_count": 11,
   "id": "780abfca",
   "metadata": {},
   "outputs": [],
   "source": [
    "#Question 4.Given the side length x find the area of a hexagon.\n",
    "def area_hex(a):\n",
    "    b=3*(3)**(0.5)\n",
    "    c=a**2\n",
    "    d=b*c/2\n",
    "    return d\n",
    "\n"
   ]
  },
  {
   "cell_type": "code",
   "execution_count": 26,
   "id": "26de8057",
   "metadata": {},
   "outputs": [],
   "source": [
    "#Question 5. Create a function that returns a base-2 (binary) representation of a base-10 (decimal) string number. To convert is simple: ((2) means base-2 and (10) means base-10)010101001(2) = 1 + 8 + 32 + 128.\n",
    "def dec_to_bin(a):\n",
    "    return bin(int(a))[2:]\n",
    "    \n",
    "    "
   ]
  },
  {
   "cell_type": "code",
   "execution_count": 28,
   "id": "16c81a51",
   "metadata": {},
   "outputs": [
    {
     "data": {
      "text/plain": [
       "'C:\\\\Users\\\\apurv'"
      ]
     },
     "execution_count": 28,
     "metadata": {},
     "output_type": "execute_result"
    }
   ],
   "source": [
    "pwd()"
   ]
  },
  {
   "cell_type": "code",
   "execution_count": null,
   "id": "a79fca63",
   "metadata": {},
   "outputs": [],
   "source": []
  }
 ],
 "metadata": {
  "kernelspec": {
   "display_name": "Python 3",
   "language": "python",
   "name": "python3"
  },
  "language_info": {
   "codemirror_mode": {
    "name": "ipython",
    "version": 3
   },
   "file_extension": ".py",
   "mimetype": "text/x-python",
   "name": "python",
   "nbconvert_exporter": "python",
   "pygments_lexer": "ipython3",
   "version": "3.8.8"
  }
 },
 "nbformat": 4,
 "nbformat_minor": 5
}
