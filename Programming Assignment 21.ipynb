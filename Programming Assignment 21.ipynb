{
 "cells": [
  {
   "cell_type": "code",
   "execution_count": 9,
   "id": "8caafa7d",
   "metadata": {},
   "outputs": [],
   "source": [
    "#Write a function that takes a list and a number as arguments. Add the number to the end of the list, then remove the first element of the list. The function should then return the updated list.\n",
    "def func(a,b):\n",
    "    \n",
    "    a.append(b)\n",
    "    a.pop(0)\n",
    "    print(a)\n",
    "    \n",
    "  \n",
    "        "
   ]
  },
  {
   "cell_type": "code",
   "execution_count": 12,
   "id": "d181aea0",
   "metadata": {},
   "outputs": [],
   "source": [
    "#Create the function that takes a list of dictionaries and returns the sum of people budgets\n",
    "def budget(a):\n",
    "    if type(a)==dict:\n",
    "        b=0\n",
    "        for i in a.values():\n",
    "            b+=i\n",
    "        return b\n",
    "    else:\n",
    "        print(\"please print dict\")\n",
    "            \n",
    "    "
   ]
  },
  {
   "cell_type": "code",
   "execution_count": 27,
   "id": "64f13536",
   "metadata": {},
   "outputs": [],
   "source": [
    "#Create a function that takes a string and returns a string with its letters in alphabetical order.\n",
    "def alpha(a):\n",
    "    return \"\".join(sorted(a))\n"
   ]
  },
  {
   "cell_type": "code",
   "execution_count": 29,
   "id": "5b2a9d81",
   "metadata": {},
   "outputs": [],
   "source": [
    "#Suppose that you invest $10,000 for 10 years at an interest rate of 6% compounded monthly.\n",
    " #What will be the value of your investment at the end of the 10 year period?\n",
    "#Create a function that accepts the principal p, the term in years t, the interest rate r, and the\n",
    "#number of compounding periods per year n. The function returns the value at the end of term\n",
    "#rounded to the nearest cent.\n",
    "def com(a,b,c,d):\n",
    "    e=1+(c/d)\n",
    "    f=d*b\n",
    "    g=e**f\n",
    "    h=a*g\n",
    "    return h"
   ]
  },
  {
   "cell_type": "code",
   "execution_count": 35,
   "id": "c47bec03",
   "metadata": {},
   "outputs": [],
   "source": [
    "#Write a function that takes a list of elements and returns only the integers.\n",
    "def inte(a):\n",
    "    b=[]\n",
    "    for i in a:\n",
    "        if type(i)==int:\n",
    "            b.append(i)\n",
    "    return b        "
   ]
  }
 ],
 "metadata": {
  "kernelspec": {
   "display_name": "Python 3",
   "language": "python",
   "name": "python3"
  },
  "language_info": {
   "codemirror_mode": {
    "name": "ipython",
    "version": 3
   },
   "file_extension": ".py",
   "mimetype": "text/x-python",
   "name": "python",
   "nbconvert_exporter": "python",
   "pygments_lexer": "ipython3",
   "version": "3.8.8"
  }
 },
 "nbformat": 4,
 "nbformat_minor": 5
}
