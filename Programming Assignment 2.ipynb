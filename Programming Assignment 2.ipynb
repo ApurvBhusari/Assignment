{
 "cells": [
  {
   "cell_type": "code",
   "execution_count": null,
   "id": "bdcc9224",
   "metadata": {},
   "outputs": [],
   "source": [
    "#1. Write a Python program to convert kilometers to miles?\n",
    "a=int(input(\"enter the value in km \"))\n",
    "a=0.6231*a\n",
    "print(\"conversion to mile is \",a)\n",
    "\n",
    "\n",
    "\n",
    "\n",
    "\n"
   ]
  },
  {
   "cell_type": "code",
   "execution_count": null,
   "id": "71f9a56f",
   "metadata": {},
   "outputs": [],
   "source": [
    "#2. Write a Python program to convert Celsius to Fahrenheit?\n",
    "a=int(input(\"enter the value in celsius \"))\n",
    "a=a*9/5 + 32 \n",
    "print(\"conversion is Fahrenheit is \",a)"
   ]
  },
  {
   "cell_type": "code",
   "execution_count": null,
   "id": "1746753b",
   "metadata": {},
   "outputs": [],
   "source": [
    "#3. Write a Python program to display calendar?\n",
    "import calendar\n",
    "\n",
    "\n",
    "m=int(input(\"enter the month: \"))\n",
    "y=int(input(\"enter the year: \"))\n",
    "print(calendar.month(y,m))\n",
    "\n",
    "\n",
    "\n"
   ]
  },
  {
   "cell_type": "code",
   "execution_count": null,
   "id": "3c721c70",
   "metadata": {},
   "outputs": [],
   "source": [
    "#4. Write a Python program to solve quadratic equation?\n",
    "\n",
    "a = int(input(\"enter the  first value a \"))\n",
    "b = int(input(\"enter the second  value b \"))\n",
    "c = int(input(\"enter the third value c \"))\n",
    "\n",
    "d = (b**2) -(4*a*c)\n",
    "\n",
    "e = (-b+(d**(1/2)))/(2*a)\n",
    "f = (-b-(d**(1/2)))/(2*a)\n",
    "\n",
    "print(\" the solution to  the quadratic equation ax2+bx+c :\", e,f)\n",
    "\n",
    "\n",
    "      \n",
    "      "
   ]
  },
  {
   "cell_type": "code",
   "execution_count": null,
   "id": "33e8a4d5",
   "metadata": {},
   "outputs": [],
   "source": [
    "#5. Write a Python program to swap two variables without temp variable?\n",
    "a=int(input(\"enter the first value \"))\n",
    "b=int(input(\"enter the second value \"))\n",
    "a,b=b,a\n",
    "print(\"a after swapping \" , a)\n",
    "print(\"b after swapping \", b)\n"
   ]
  },
  {
   "cell_type": "code",
   "execution_count": null,
   "id": "61995303",
   "metadata": {},
   "outputs": [],
   "source": []
  },
  {
   "cell_type": "code",
   "execution_count": null,
   "id": "e56a8519",
   "metadata": {},
   "outputs": [],
   "source": []
  }
 ],
 "metadata": {
  "kernelspec": {
   "display_name": "Python 3",
   "language": "python",
   "name": "python3"
  },
  "language_info": {
   "codemirror_mode": {
    "name": "ipython",
    "version": 3
   },
   "file_extension": ".py",
   "mimetype": "text/x-python",
   "name": "python",
   "nbconvert_exporter": "python",
   "pygments_lexer": "ipython3",
   "version": "3.8.8"
  }
 },
 "nbformat": 4,
 "nbformat_minor": 5
}
