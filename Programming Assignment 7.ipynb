{
 "cells": [
  {
   "cell_type": "code",
   "execution_count": 3,
   "id": "a5953dbd",
   "metadata": {},
   "outputs": [],
   "source": [
    "#1. Write a Python Program to find sum of array?\n",
    "def sum(arr):\n",
    "    sum=0\n",
    "    for i in arr:\n",
    "        sum=sum+i\n",
    "    return sum\n",
    "        \n"
   ]
  },
  {
   "cell_type": "code",
   "execution_count": 5,
   "id": "45d89e5d",
   "metadata": {},
   "outputs": [],
   "source": [
    "#2. Write a Python Program to find largest element in an array?\n",
    "def large(arr):\n",
    "    arr=sorted(arr,reverse=True)\n",
    "    return arr[0]\n",
    "    \n",
    "    \n"
   ]
  },
  {
   "cell_type": "code",
   "execution_count": 34,
   "id": "6c018e82",
   "metadata": {},
   "outputs": [],
   "source": [
    "#3. Write a Python Program for array rotation?\n",
    "def rot(arr,d):\n",
    "    a=[]\n",
    "    for i in range(d):\n",
    "        a.append(arr[i])\n",
    "    for i in range(d):\n",
    "        arr.pop(0)\n",
    "    return arr +a\n",
    "        \n",
    "        \n",
    "        \n",
    "    \n",
    "    \n",
    "        \n",
    "    \n",
    "    \n",
    "    \n",
    "    \n"
   ]
  },
  {
   "cell_type": "code",
   "execution_count": 38,
   "id": "e5920607",
   "metadata": {},
   "outputs": [],
   "source": [
    "#4. Write a Python Program to Split the array and add the first part to the end?\n",
    "def split(arr,d):\n",
    "    a=[]\n",
    "    for i in range(d):\n",
    "        a.append(arr[i])\n",
    "    for i in range(d):\n",
    "        arr.pop(0)\n",
    "    return arr+a \n"
   ]
  },
  {
   "cell_type": "code",
   "execution_count": 41,
   "id": "9590ee7c",
   "metadata": {},
   "outputs": [],
   "source": [
    "#5. Write a Python Program to check if given array is Monotonic?\n",
    "def mono(arr):\n",
    "    if arr==sorted(arr,reverse=False):\n",
    "        return True \n",
    "    if arr==sorted(arr,reverse=True):\n",
    "        return True\n",
    "    else:\n",
    "        return False\n"
   ]
  }
 ],
 "metadata": {
  "kernelspec": {
   "display_name": "Python 3 (ipykernel)",
   "language": "python",
   "name": "python3"
  },
  "language_info": {
   "codemirror_mode": {
    "name": "ipython",
    "version": 3
   },
   "file_extension": ".py",
   "mimetype": "text/x-python",
   "name": "python",
   "nbconvert_exporter": "python",
   "pygments_lexer": "ipython3",
   "version": "3.9.12"
  }
 },
 "nbformat": 4,
 "nbformat_minor": 5
}
