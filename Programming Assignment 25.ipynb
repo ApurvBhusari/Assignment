{
 "cells": [
  {
   "cell_type": "code",
   "execution_count": null,
   "id": "abcc56f4",
   "metadata": {},
   "outputs": [],
   "source": [
    "#Create a function that takes three integer arguments (a, b, c) and returns the amount of dintegers which are of equal value.\n",
    "def equal(a,b,c):\n",
    "    if a==b and a==c and b==c:\n",
    "        return 3\n",
    "    if a==b or a==c or b==c:\n",
    "        return 2\n",
    "    if a!=b and a!=c and b!=c:\n",
    "        return 0\n",
    "    \n",
    "\n"
   ]
  },
  {
   "cell_type": "code",
   "execution_count": null,
   "id": "bf43fa5f",
   "metadata": {},
   "outputs": [],
   "source": [
    "#Write a function that converts a dictionary into a list of keys-values tuples.\n",
    "def con_to_list(a):\n",
    "    b=[]\n",
    "    for i in a.items():\n",
    "        b.append(i)\n",
    "    return b    \n",
    "        \n",
    "\n",
    "\n",
    "\n"
   ]
  },
  {
   "cell_type": "code",
   "execution_count": null,
   "id": "8bb2d203",
   "metadata": {},
   "outputs": [],
   "source": [
    "#Write a function that creates a dictionary with each (key, value) pair being the (lower case,upper case) versions of a letter, respectively.\n",
    "def dic(a):\n",
    "    b={}\n",
    "    for i in a:\n",
    "        b[i]=i.upper()\n",
    "    return b    \n",
    "        \n",
    "        \n",
    "    \n",
    "\n",
    "\n",
    "\n"
   ]
  },
  {
   "cell_type": "code",
   "execution_count": null,
   "id": "d89feecc",
   "metadata": {},
   "outputs": [],
   "source": [
    "#Write a function, that replaces all vowels in a string with a specified vowel.\n",
    "def vowel(a,b):\n",
    "    c=\"AEIOUaeiou\"\n",
    "    for i in c:\n",
    "            a=a.replace(i,b)\n",
    "    return a        \n",
    "        \n",
    "\n",
    "\n",
    "\n"
   ]
  },
  {
   "cell_type": "code",
   "execution_count": null,
   "id": "03bf4add",
   "metadata": {},
   "outputs": [],
   "source": [
    "vowel(\"aoeiu\",\"e\")"
   ]
  },
  {
   "cell_type": "code",
   "execution_count": 5,
   "id": "846d283c",
   "metadata": {},
   "outputs": [],
   "source": [
    "#Create a function that takes a string as input and capitalizes a letter if its ASCII code is even and returns its lower case version if its ASCII code is odd.\n",
    "def even_odd(a):\n",
    "    b=\"\"\n",
    "    for i in a:\n",
    "        if ord(i)%2==0:\n",
    "            b+=i.upper()\n",
    "            \n",
    "        else:\n",
    "            b+=i.lower()\n",
    "    return b\n",
    "\n",
    "\n",
    "\n"
   ]
  },
  {
   "cell_type": "code",
   "execution_count": null,
   "id": "d06c1fc0",
   "metadata": {},
   "outputs": [],
   "source": []
  }
 ],
 "metadata": {
  "kernelspec": {
   "display_name": "Python 3",
   "language": "python",
   "name": "python3"
  },
  "language_info": {
   "codemirror_mode": {
    "name": "ipython",
    "version": 3
   },
   "file_extension": ".py",
   "mimetype": "text/x-python",
   "name": "python",
   "nbconvert_exporter": "python",
   "pygments_lexer": "ipython3",
   "version": "3.8.8"
  }
 },
 "nbformat": 4,
 "nbformat_minor": 5
}
