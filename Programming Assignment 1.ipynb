{
 "cells": [
  {
   "cell_type": "code",
   "execution_count": 1,
   "id": "47d81db4",
   "metadata": {},
   "outputs": [
    {
     "name": "stdout",
     "output_type": "stream",
     "text": [
      "Hello python\n"
     ]
    }
   ],
   "source": [
    "#Write a Python program to print hello python?\n",
    "\n",
    "a=\"Hello python\"\n",
    "print(a)"
   ]
  },
  {
   "cell_type": "code",
   "execution_count": 8,
   "id": "e93ce8a3",
   "metadata": {},
   "outputs": [
    {
     "name": "stdout",
     "output_type": "stream",
     "text": [
      "enter the first no  30\n",
      "enter the second no 2\n",
      "addition=  32\n",
      "division=  15.0\n"
     ]
    }
   ],
   "source": [
    "#Write a Python program to do arithmetical operations addition and division.?\n",
    "\n",
    "a=int(input(\"enter the first no  \"))\n",
    "b=int(input(\"enter the second no \"))   \n",
    "c=a+b\n",
    "d=a/b      \n",
    "print(\"addition= \",c )\n",
    "print(\"division= \", d )      \n",
    "      "
   ]
  },
  {
   "cell_type": "code",
   "execution_count": 9,
   "id": "3e39614d",
   "metadata": {},
   "outputs": [
    {
     "name": "stdout",
     "output_type": "stream",
     "text": [
      "enter the base 10\n",
      "enter the height 2\n",
      "area=  10.0\n"
     ]
    }
   ],
   "source": [
    "#Write a Python program to find the area of a triangle?\n",
    "\n",
    "b=int(input(\"enter the base \"))\n",
    "h=int(input(\"enter the height \"))\n",
    "area=b*h/2\n",
    "print(\"area= \",area)\n"
   ]
  },
  {
   "cell_type": "code",
   "execution_count": 12,
   "id": "eba46c2c",
   "metadata": {},
   "outputs": [
    {
     "name": "stdout",
     "output_type": "stream",
     "text": [
      "enter the first value 423\n",
      "enter the second value 23\n",
      "a after swapping  23\n",
      "b after swapping  423\n"
     ]
    }
   ],
   "source": [
    "#Write a Python program to swap two variables?\n",
    "a=int(input(\"enter the first value \"))\n",
    "b=int(input(\"enter the second value \"))\n",
    "a,b=b,a\n",
    "print(\"a after swapping \" , a)\n",
    "print(\"b after swapping \", b)\n"
   ]
  },
  {
   "cell_type": "code",
   "execution_count": 15,
   "id": "45d2f7ab",
   "metadata": {},
   "outputs": [
    {
     "name": "stdout",
     "output_type": "stream",
     "text": [
      "enter the first value 0\n",
      "enter the second value 100\n",
      "87\n"
     ]
    }
   ],
   "source": [
    "#Write a Python program to generate a random number?\n",
    "import random\n",
    "b=int(input(\"enter the first value \"))\n",
    "c=int(input(\"enter the second value \"))\n",
    "a=random.randint(b,c)\n",
    "print(a)\n",
    "\n",
    "\n"
   ]
  },
  {
   "cell_type": "code",
   "execution_count": null,
   "id": "0969c691",
   "metadata": {},
   "outputs": [],
   "source": []
  }
 ],
 "metadata": {
  "kernelspec": {
   "display_name": "Python 3",
   "language": "python",
   "name": "python3"
  },
  "language_info": {
   "codemirror_mode": {
    "name": "ipython",
    "version": 3
   },
   "file_extension": ".py",
   "mimetype": "text/x-python",
   "name": "python",
   "nbconvert_exporter": "python",
   "pygments_lexer": "ipython3",
   "version": "3.8.8"
  }
 },
 "nbformat": 4,
 "nbformat_minor": 5
}
