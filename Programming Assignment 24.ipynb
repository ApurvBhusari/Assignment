{
 "cells": [
  {
   "cell_type": "code",
   "execution_count": 63,
   "id": "89cfc91e",
   "metadata": {},
   "outputs": [],
   "source": [
    "#Create a function that takes an integer and returns a list from 1 to the given number, where:\n",
    "def amplif(a):\n",
    "    b=[]\n",
    "    for i in range(1,a+1):\n",
    "        b.append(i)\n",
    "    for i in range(0,len(b)):\n",
    "        if (b[i])%4==0:\n",
    "            b[i]=b[i]*10\n",
    "    return b            \n",
    "\n",
    "        \n",
    "    \n",
    "        \n",
    "        \n",
    "        \n",
    "            \n",
    "    "
   ]
  },
  {
   "cell_type": "code",
   "execution_count": null,
   "id": "410b707a",
   "metadata": {},
   "outputs": [],
   "source": [
    "#Create a function that takes a list of numbers and return the number that&#39;s unique.\n",
    "def uni(a):\n",
    "    for i in a:\n",
    "        if a.count(i)==1:\n",
    "            return i\n",
    "        \n",
    "        \n",
    "        "
   ]
  },
  {
   "cell_type": "code",
   "execution_count": 43,
   "id": "dffd6143",
   "metadata": {},
   "outputs": [],
   "source": [
    "#Your task is to create a Circle constructor that creates a circle with a radius provided by anargument. The circles constructed must have two getters getArea() (PIr^2) andgetPerimeter() (2PI*r) which give both respective areas and perimeter (circumference).\n",
    "class circle():\n",
    "    def getarea(self,a):\n",
    "        b=3.14\n",
    "        return round(b*(a**2))\n",
    "    def getperimeter(self,a):\n",
    "        b=3.14\n",
    "        return round(2*b*a)\n",
    "d=circle()\n",
    "d.getperimeter(5)\n",
    "d.getarea(5)\n",
    "    \n",
    "    \n",
    "\n",
    "\n",
    "\n",
    "\n",
    "\n",
    "\n",
    "\n",
    "\n",
    "\n"
   ]
  },
  {
   "cell_type": "code",
   "execution_count": 18,
   "id": "9f59d009",
   "metadata": {},
   "outputs": [],
   "source": [
    "#Create a function that takes a list of strings and return a list, sorted from shortest to longest.\n",
    "def sholen(a):\n",
    "    b=[]\n",
    "    for i in a:\n",
    "        b.append(len(i))\n",
    "    c=sorted(b)\n",
    "    d=[]\n",
    "    for i in c:\n",
    "        for j in a:\n",
    "            if i==len(j):\n",
    "                d.append(j)\n",
    "    return d            \n",
    "            \n",
    "           \n",
    "            \n",
    "            \n",
    "        \n",
    "        \n",
    "        \n",
    "        \n",
    "\n",
    "\n"
   ]
  },
  {
   "cell_type": "code",
   "execution_count": 6,
   "id": "bde70596",
   "metadata": {},
   "outputs": [],
   "source": [
    "#Create a function that validates whether three given integers form a Pythagorean triplet. Thesum of the squares of the two smallest integers must equal the square of the largest number tobe validated.\n",
    "def pytha(a,b,c):\n",
    "    if a> b and a> c:\n",
    "        if a**2== b**2 +c**2:\n",
    "            return True\n",
    "        else:\n",
    "            return False\n",
    "         \n",
    "    elif c > a and c> b:\n",
    "        if c**2 ==a**2 +b**2:\n",
    "            return True\n",
    "        else:\n",
    "            return False\n",
    "    elif b > a and b> c:\n",
    "        if b**2==a**2 +c**2:\n",
    "            return True \n",
    "        else:\n",
    "            return False    \n",
    "        \n",
    "        \n",
    "        \n",
    "\n",
    "\n"
   ]
  }
 ],
 "metadata": {
  "kernelspec": {
   "display_name": "Python 3",
   "language": "python",
   "name": "python3"
  },
  "language_info": {
   "codemirror_mode": {
    "name": "ipython",
    "version": 3
   },
   "file_extension": ".py",
   "mimetype": "text/x-python",
   "name": "python",
   "nbconvert_exporter": "python",
   "pygments_lexer": "ipython3",
   "version": "3.8.8"
  }
 },
 "nbformat": 4,
 "nbformat_minor": 5
}
