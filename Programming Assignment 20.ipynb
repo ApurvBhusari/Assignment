{
 "cells": [
  {
   "cell_type": "code",
   "execution_count": null,
   "id": "e630e608",
   "metadata": {},
   "outputs": [],
   "source": [
    "#Create a function that takes a list of strings and integers, and filters out the list so that it returns a list of integers  only.\n",
    "def func(a):\n",
    "    if type(a)==list:\n",
    "        b=[]\n",
    "        for i in a:\n",
    "            if type(i)==int or type(i)==str:\n",
    "                if type(i)==int:\n",
    "                    b.append(i)\n",
    "            else :\n",
    "                print(\"please enter strings and integers only\")\n",
    "        return b\n",
    "        \n",
    "        "
   ]
  },
  {
   "cell_type": "code",
   "execution_count": null,
   "id": "eae6632d",
   "metadata": {},
   "outputs": [],
   "source": [
    "#Given a list of numbers, create a function which returns the list but with each elements index in the list added to itself. This means you add 0 to the number at index 0, add 1 to the number at index 1, etc...\n",
    "def index(a):\n",
    "    if type(a)==list:\n",
    "        b=[]\n",
    "        for i in a:\n",
    "             b.append(i+a.index(i))\n",
    "        return b    \n",
    "        \n",
    "    \n",
    "    "
   ]
  },
  {
   "cell_type": "code",
   "execution_count": null,
   "id": "57c1bc70",
   "metadata": {},
   "outputs": [],
   "source": [
    "#Create a function that takes the height and radius of a cone as arguments and returns the volume of the cone rounded to the nearest hundredth. See the resources tab for the formula.\n",
    "def func1(a,b):\n",
    "    c=(22/7)/3\n",
    "    d=c*(a**2)*(b)\n",
    "    return d\n",
    "    "
   ]
  },
  {
   "cell_type": "code",
   "execution_count": null,
   "id": "f3486697",
   "metadata": {},
   "outputs": [],
   "source": [
    "#This Triangular Number Sequence is generated from a pattern of dots that form a triangle. The first 5 numbers of the sequence, or dots, are:\n",
    "def tria(a):\n",
    "    n=0\n",
    "    for i in range(1,a+1):\n",
    "        n=n+i\n",
    "    return n        \n",
    "        \n",
    "        \n",
    "        \n",
    "    \n",
    "    "
   ]
  },
  {
   "cell_type": "code",
   "execution_count": 18,
   "id": "3ff8bd81",
   "metadata": {},
   "outputs": [],
   "source": [
    "#Create a function that takes a list of numbers between 1 and 10 (excluding one number) and returns the missing number.\n",
    "def miss_no(args):\n",
    "    b=[]\n",
    "    for i in range(1,11):\n",
    "        if i not in args:\n",
    "            b.append(i)\n",
    "    return b      \n",
    "      \n",
    "    \n",
    "    \n",
    "    "
   ]
  },
  {
   "cell_type": "code",
   "execution_count": null,
   "id": "f5af8676",
   "metadata": {},
   "outputs": [],
   "source": []
  }
 ],
 "metadata": {
  "kernelspec": {
   "display_name": "Python 3",
   "language": "python",
   "name": "python3"
  },
  "language_info": {
   "codemirror_mode": {
    "name": "ipython",
    "version": 3
   },
   "file_extension": ".py",
   "mimetype": "text/x-python",
   "name": "python",
   "nbconvert_exporter": "python",
   "pygments_lexer": "ipython3",
   "version": "3.8.8"
  }
 },
 "nbformat": 4,
 "nbformat_minor": 5
}
