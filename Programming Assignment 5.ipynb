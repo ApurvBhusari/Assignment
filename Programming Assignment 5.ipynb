{
 "cells": [
  {
   "cell_type": "code",
   "execution_count": 8,
   "id": "96ec1e25",
   "metadata": {},
   "outputs": [
    {
     "name": "stdout",
     "output_type": "stream",
     "text": [
      "enter the first value 88\n",
      "enter the second value 56\n",
      "The L.C.M. is 616\n"
     ]
    }
   ],
   "source": [
    "#Write a Python Program to Find LCM?\n",
    "\n",
    "def lcm(x, y):\n",
    "\n",
    "   if x > y:\n",
    "       temp = x\n",
    "   else:\n",
    "       temp = y\n",
    "\n",
    "   while(True):\n",
    "       if((temp % x == 0) and (temp % y == 0)):\n",
    "           lcm = temp\n",
    "           break\n",
    "       temp += 1\n",
    "\n",
    "   return lcm\n",
    " \n",
    "n = int(input(\"enter the first value \"))\n",
    "m = int(input(\"enter the second value \"))\n",
    "\n",
    "print(\"The L.C.M. is\", lcm(n,m))\n",
    "\n",
    "    \n",
    "\n",
    "\n",
    "\n",
    "\n"
   ]
  },
  {
   "cell_type": "code",
   "execution_count": 7,
   "id": "58103b05",
   "metadata": {},
   "outputs": [
    {
     "name": "stdout",
     "output_type": "stream",
     "text": [
      "enter the first value 8\n",
      "enter the second value 4\n",
      "The H.C.F. is 4\n"
     ]
    }
   ],
   "source": [
    "# Write a Python Program to Find HCF?\n",
    "def hcf(x, y):\n",
    "    if x > y:\n",
    "        \n",
    "        temp = y\n",
    "    else:\n",
    "        temp = x\n",
    "    for i in range(1, temp+1):\n",
    "        if((x % i == 0) and (y % i == 0)):\n",
    "            hcf = i \n",
    "    return hcf\n",
    "n = int(input(\"enter the first value \"))\n",
    "m = int(input(\"enter the second value \"))\n",
    "\n",
    "print(\"The H.C.F. is\", hcf(n,m))\n",
    "\n",
    "\n"
   ]
  },
  {
   "cell_type": "code",
   "execution_count": null,
   "id": "ed46905a",
   "metadata": {},
   "outputs": [],
   "source": [
    "# Write a Python Program to Convert Decimal to Binary, Octal and Hexadecimal?\n",
    "n=int(input(\"enter the decimal value \"))\n",
    "print(\"your binary conversion is :\", bin(n))\n",
    "print(\"your octal conversion is :\",oct(n))\n",
    "print(\"your hexadecimal conversion is :\", hex(n))\n",
    "\n",
    "\n"
   ]
  },
  {
   "cell_type": "code",
   "execution_count": null,
   "id": "d3ee6be6",
   "metadata": {},
   "outputs": [],
   "source": [
    "# Write a Python Program To Find ASCII value of a character?\n",
    "\n",
    "n=input(\"enter the character value \")\n",
    "if type(n)==str:\n",
    "    if len(n)==1:\n",
    "        print(ord(n))\n",
    "    else :\n",
    "        print(\"please enter the string with length 1\")\n",
    "else :\n",
    "    print(\"please enter character value\")\n",
    "    \n",
    "\n",
    "\n"
   ]
  },
  {
   "cell_type": "code",
   "execution_count": null,
   "id": "71154f64",
   "metadata": {},
   "outputs": [],
   "source": [
    "# Write a Python Program to Make a Simple Calculator with 4 basic mathematical operations?\n",
    "n=int(input(\"enter the first value \"))\n",
    "def add(x, y):\n",
    "    return x + y\n",
    "def subtract(x, y):\n",
    "    return x - y\n",
    "def multiply(x, y):\n",
    "    return x * y\n",
    "def divide(x, y):\n",
    "    return x / y\n",
    "\n",
    "\n",
    "print(\"Select operation.\")\n",
    "print(\"1.Add\")\n",
    "print(\"2.Subtract\")\n",
    "print(\"3.Multiply\")\n",
    "print(\"4.Divide\")\n",
    "\n",
    "while True:\n",
    "\n",
    "    choice = input(\"Enter choice(1/2/3/4): \")\n",
    "\n",
    "    if choice in ('1', '2', '3', '4'):\n",
    "        num1 = float(input(\"Enter first number: \"))\n",
    "        num2 = float(input(\"Enter second number: \"))\n",
    "\n",
    "        if choice == '1':\n",
    "            print(num1, \"+\", num2, \"=\", add(num1, num2))\n",
    "\n",
    "        elif choice == '2':\n",
    "            print(num1, \"-\", num2, \"=\", subtract(num1, num2))\n",
    "\n",
    "        elif choice == '3':\n",
    "            print(num1, \"*\", num2, \"=\", multiply(num1, num2))\n",
    "\n",
    "        elif choice == '4':\n",
    "            print(num1, \"/\", num2, \"=\", divide(num1, num2))\n",
    "            \n",
    "        next_calculation = input(\"Let's do next calculation? (yes/no): \")\n",
    "        if next_calculation == \"no\":\n",
    "          break\n",
    "    \n",
    "    else:\n",
    "        print(\"Invalid Input\")\n",
    "\n",
    "\n"
   ]
  },
  {
   "cell_type": "code",
   "execution_count": null,
   "id": "531ff22f",
   "metadata": {},
   "outputs": [],
   "source": []
  }
 ],
 "metadata": {
  "kernelspec": {
   "display_name": "Python 3",
   "language": "python",
   "name": "python3"
  },
  "language_info": {
   "codemirror_mode": {
    "name": "ipython",
    "version": 3
   },
   "file_extension": ".py",
   "mimetype": "text/x-python",
   "name": "python",
   "nbconvert_exporter": "python",
   "pygments_lexer": "ipython3",
   "version": "3.8.8"
  }
 },
 "nbformat": 4,
 "nbformat_minor": 5
}
