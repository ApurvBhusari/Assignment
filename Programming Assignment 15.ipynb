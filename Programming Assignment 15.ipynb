{
 "cells": [
  {
   "cell_type": "code",
   "execution_count": null,
   "id": "945686ee",
   "metadata": {},
   "outputs": [],
   "source": [
    "#Please write a program using generator to print the numbers which can be divisible by 5 and 7 between 0 and n in comma separated form while n is input by console.\n",
    "def gen(n):\n",
    "    for i in range(n+1):\n",
    "        if i%5==0 and i%7==0:\n",
    "            yield i\n",
    "n=int(input()) \n",
    "a=[]\n",
    "for i in gen(n):\n",
    "    a.append(str(i))\n",
    "print(\",\".join(a))    \n",
    "         \n",
    "\n",
    "\n"
   ]
  },
  {
   "cell_type": "code",
   "execution_count": null,
   "id": "4723810e",
   "metadata": {},
   "outputs": [],
   "source": [
    "#Please write a program using generator to print the even numbers between 0 and n in comma separated form while n is input by console.\n",
    "def even(n):\n",
    "    for i in range(n+1):\n",
    "        if i%2==0:\n",
    "            yield i\n",
    "n=int(input())\n",
    "a=[]\n",
    "for i in even(n):\n",
    "    a.append(str(i))\n",
    "print(\",\".join(a))    \n"
   ]
  },
  {
   "cell_type": "code",
   "execution_count": null,
   "id": "3c3f3e0c",
   "metadata": {},
   "outputs": [],
   "source": [
    "#The Fibonacci Sequence is computed based on the following formula: Please write a program using list comprehension to print the Fibonacci Sequence in commaseparated form with a given n input by console.\n",
    "def fib(n):\n",
    "    d=[]\n",
    "    a=1\n",
    "    b=0\n",
    "    if n==0:\n",
    "        return \"please enter positive no\"\n",
    "    else:\n",
    "        for i in range(n):\n",
    "            d.append(b)\n",
    "            e=a+b\n",
    "            b=a\n",
    "            a=e\n",
    "        return d    \n",
    "            \n",
    "        \n",
    "            \n",
    "        \n"
   ]
  },
  {
   "cell_type": "code",
   "execution_count": 12,
   "id": "691e25bf",
   "metadata": {},
   "outputs": [],
   "source": [
    "#Assuming that we have some email addresses in the &quot;username@companyname.com&quot; format,\n",
    "#please write program to print the user name of a given email address. Both user names and\n",
    "#company names are composed of letters only.\n",
    "def user(n):\n",
    "    b=[]\n",
    "    for i in n:\n",
    "        b.append(i)\n",
    "  \n",
    "    for i in b:\n",
    "        if i==\"@\":\n",
    "            a=b.index(i)       \n",
    "    c=[]\n",
    "    i=0\n",
    "    while(i<a):\n",
    "        c.append(b[i])\n",
    "        i+=1\n",
    "    return \"\".join(c)       \n",
    "         \n",
    "        \n",
    "\n",
    "\n",
    "\n"
   ]
  },
  {
   "cell_type": "code",
   "execution_count": 24,
   "id": "f5f89c55",
   "metadata": {},
   "outputs": [
    {
     "name": "stdout",
     "output_type": "stream",
     "text": [
      "25\n",
      "0\n"
     ]
    }
   ],
   "source": [
    "class Shape():\n",
    "    def __init__(self):\n",
    "        pass\n",
    "\n",
    "    def area(self):\n",
    "        return 0\n",
    "\n",
    "class Square(Shape):\n",
    "    def __init__(self,length = 0):\n",
    "        Shape.__init__(self)\n",
    "        self.length = length\n",
    "\n",
    "    def area(self):\n",
    "        return self.length*self.length\n",
    "\n",
    "a= Square(5)\n",
    "print(a.area())     \n",
    "print(Square().area()) "
   ]
  },
  {
   "cell_type": "code",
   "execution_count": null,
   "id": "cb4bc403",
   "metadata": {},
   "outputs": [],
   "source": []
  }
 ],
 "metadata": {
  "kernelspec": {
   "display_name": "Python 3",
   "language": "python",
   "name": "python3"
  },
  "language_info": {
   "codemirror_mode": {
    "name": "ipython",
    "version": 3
   },
   "file_extension": ".py",
   "mimetype": "text/x-python",
   "name": "python",
   "nbconvert_exporter": "python",
   "pygments_lexer": "ipython3",
   "version": "3.8.8"
  }
 },
 "nbformat": 4,
 "nbformat_minor": 5
}
