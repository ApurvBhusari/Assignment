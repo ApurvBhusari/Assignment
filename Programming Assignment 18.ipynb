{
 "cells": [
  {
   "cell_type": "code",
   "execution_count": null,
   "id": "b6c2e1a6",
   "metadata": {},
   "outputs": [],
   "source": [
    "#Create a function that takes a list of non-negative integers and strings and return a new list without the strings.\n",
    "def withoutstr(a):\n",
    "    \n",
    "    m=[]\n",
    "    for i in a:\n",
    "        if type(i)==str or  i>=0:\n",
    "            if type(i)==int:\n",
    "                m.append(i)\n",
    "        else :\n",
    "            print(\"please input non-negative integers\")\n",
    "    return m        \n",
    "    \n",
    "    "
   ]
  },
  {
   "cell_type": "code",
   "execution_count": null,
   "id": "f50e0818",
   "metadata": {},
   "outputs": [],
   "source": [
    "#The Reverser takes a string as input and returns that string in reverse order, with the opposite case.\n",
    "def reverser(a):\n",
    "    if type(a)==str:\n",
    "         return a[::-1]\n",
    "    else :\n",
    "        print(\"enter only string\")\n",
    "    "
   ]
  },
  {
   "cell_type": "code",
   "execution_count": 7,
   "id": "858f4cfc",
   "metadata": {},
   "outputs": [
    {
     "name": "stdout",
     "output_type": "stream",
     "text": [
      "1\n",
      "[2, 3, 4, 5]\n",
      "6\n"
     ]
    }
   ],
   "source": [
    "#You can assign variables from lists like this:\n",
    "#lst = [1, 2, 3, 4, 5, 6]\n",
    "#first = lst[0]\n",
    "#middle = lst[1:-1]\n",
    "#last = lst[-1]\n",
    "#print(first) ➞ outputs 1\n",
    "#print(middle) ➞ outputs [2, 3, 4, 5]\n",
    "#print(last) ➞ outputs 6\n",
    "#With Python 3, you can assign variables from lists in a much more succinct way. Createvariables first, middle and last from the given list using destructuring assignment(check the Resources tab for some examples), where:\n",
    "#first ➞ 1\n",
    "#middle ➞ [2, 3, 4, 5]\n",
    "#last ➞ 6\n",
    "#Your task is to unpack the list writeyourcodehere into three variables, being first,middle, and last, with middle being everything in between the first and last element. Thenprint all three variables.\n",
    "\n",
    "\n",
    "num=[1,2,3,4,5,6]\n",
    "first,*middle,last= num\n",
    "print (first)\n",
    "print (middle)\n",
    "print (last)\n"
   ]
  },
  {
   "cell_type": "code",
   "execution_count": 3,
   "id": "e6858d9b",
   "metadata": {},
   "outputs": [],
   "source": [
    "#Write a function that calculates the factorial of a number recursively.\n",
    "def fact(a):\n",
    "    if a==1:\n",
    "        return a\n",
    "    else :\n",
    "        return a*fact(a-1)\n"
   ]
  },
  {
   "cell_type": "code",
   "execution_count": null,
   "id": "9dd7249d",
   "metadata": {},
   "outputs": [],
   "source": [
    "#Write a function that moves all elements of one type to the end of the list.\n",
    "test_list = ['3', '5', '7', '9', '11']  \n",
    "print (\"The original list is : \" + str(test_list))\n",
    "test_list.append(test_list.pop(test_list.index(5)))\n",
    "print (\"The modified element moved list is : \" + str(test_list))"
   ]
  }
 ],
 "metadata": {
  "kernelspec": {
   "display_name": "Python 3",
   "language": "python",
   "name": "python3"
  },
  "language_info": {
   "codemirror_mode": {
    "name": "ipython",
    "version": 3
   },
   "file_extension": ".py",
   "mimetype": "text/x-python",
   "name": "python",
   "nbconvert_exporter": "python",
   "pygments_lexer": "ipython3",
   "version": "3.8.8"
  }
 },
 "nbformat": 4,
 "nbformat_minor": 5
}
