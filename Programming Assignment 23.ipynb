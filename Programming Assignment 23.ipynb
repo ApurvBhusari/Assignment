{
 "cells": [
  {
   "cell_type": "code",
   "execution_count": null,
   "id": "a8ff68b5",
   "metadata": {},
   "outputs": [],
   "source": [
    "#Create a function that takes a number as an argument and returns True or False depending on whether the number is symmetrical or not. A number is symmetrical when it is the same asits reverse.\n",
    "def sym(a):\n",
    "    b=str(a)\n",
    "    if b[::]==b[::-1]:\n",
    "        return True\n",
    "    else:\n",
    "        return False"
   ]
  },
  {
   "cell_type": "code",
   "execution_count": null,
   "id": "92d62e0b",
   "metadata": {},
   "outputs": [],
   "source": [
    "#Given a string of numbers separated by a comma and space, return the product of the numbers.\n",
    "def pro(a):\n",
    "    b=a.replace(\" \",\"\")\n",
    "    c=b.replace(\",\",\"\")\n",
    "    d=1\n",
    "    for i in c:\n",
    "        d*=int(i)\n",
    "    return d    \n",
    "        \n",
    "        \n",
    "        \n",
    "        \n",
    "        \n",
    "\n",
    "\n"
   ]
  },
  {
   "cell_type": "code",
   "execution_count": 3,
   "id": "d6b1ad5e",
   "metadata": {},
   "outputs": [],
   "source": [
    "#Create a function that squares every digit of a number.\n",
    "def squ(a):\n",
    "    b=str(a)\n",
    "    c=[]\n",
    "    for i in b:\n",
    "        d=int(i)**2\n",
    "        c.append(d)\n",
    "    z=[]    \n",
    "    for i in c:\n",
    "        z.append(str(i))\n",
    "    f=''.join(z)\n",
    "    return f\n",
    "    \n",
    "\n",
    "\n",
    "\n"
   ]
  },
  {
   "cell_type": "code",
   "execution_count": 20,
   "id": "eb461469",
   "metadata": {},
   "outputs": [],
   "source": [
    "#Create a function that sorts a list and removes all duplicate items from it.\n",
    "def funcsort(a):\n",
    "    a = sorted(set(a))\n",
    "    return a\n",
    "   \n",
    "            \n",
    "    \n",
    "     \n",
    "    \n"
   ]
  },
  {
   "cell_type": "code",
   "execution_count": 31,
   "id": "08ba1296",
   "metadata": {},
   "outputs": [],
   "source": [
    "#Create a function that returns the mean of all digits.\n",
    "def mean(a):\n",
    "    b=str(a)\n",
    "    c=[]\n",
    "    for i in b:\n",
    "        c.append(int(i))\n",
    "        \n",
    "    n=0\n",
    "    for i in c:\n",
    "        n+=i\n",
    "    return n/len(c)           \n",
    "        \n",
    "        \n",
    "        "
   ]
  },
  {
   "cell_type": "code",
   "execution_count": 35,
   "id": "9675ee10",
   "metadata": {},
   "outputs": [
    {
     "data": {
      "text/plain": [
       "5.0"
      ]
     },
     "execution_count": 35,
     "metadata": {},
     "output_type": "execute_result"
    }
   ],
   "source": [
    "mean"
   ]
  },
  {
   "cell_type": "markdown",
   "id": "689c95b8",
   "metadata": {},
   "source": []
  },
  {
   "cell_type": "code",
   "execution_count": null,
   "id": "1da0a711",
   "metadata": {},
   "outputs": [],
   "source": []
  }
 ],
 "metadata": {
  "kernelspec": {
   "display_name": "Python 3",
   "language": "python",
   "name": "python3"
  },
  "language_info": {
   "codemirror_mode": {
    "name": "ipython",
    "version": 3
   },
   "file_extension": ".py",
   "mimetype": "text/x-python",
   "name": "python",
   "nbconvert_exporter": "python",
   "pygments_lexer": "ipython3",
   "version": "3.8.8"
  }
 },
 "nbformat": 4,
 "nbformat_minor": 5
}
