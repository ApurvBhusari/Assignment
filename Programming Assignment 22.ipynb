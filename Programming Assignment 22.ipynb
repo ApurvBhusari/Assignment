{
 "cells": [
  {
   "cell_type": "code",
   "execution_count": null,
   "id": "6455bd9a",
   "metadata": {},
   "outputs": [],
   "source": [
    "#Create a function that takes three parameters where: Return an ordered list with numbers in the range that are divisible by the third parameter n.Return an empty list if there are no numbers that are divisible by n.\n",
    "def orderedl(a,b,c):\n",
    "    d=[]\n",
    "    for i in range(1,10):\n",
    "        if i%c==0:\n",
    "            d.append(i)\n",
    "    return d        \n",
    "    \n",
    "    \n"
   ]
  },
  {
   "cell_type": "code",
   "execution_count": null,
   "id": "906aaca3",
   "metadata": {},
   "outputs": [],
   "source": [
    "\n",
    "#Create a function that takes in two lists and returns True if the second list follows the first list by one element, and False otherwise. In other words, determine if the second list is the first list shifted to the right by 1.\n",
    "def list1(a,b):\n",
    "    if len(a)==len(b):\n",
    "        \n",
    "        c=[]\n",
    "        d=[]\n",
    "        for i in range(len(a)-1):\n",
    "            c.append(a[i])\n",
    "        for j in range(1,len(a)):\n",
    "            d.append(b[j])\n",
    "        if c==d:\n",
    "            return True\n",
    "        else:\n",
    "            return False\n",
    "    else :\n",
    "        print(\"enter the length of both strings correctly\")\n",
    "    "
   ]
  },
  {
   "cell_type": "code",
   "execution_count": null,
   "id": "580d9000",
   "metadata": {},
   "outputs": [],
   "source": [
    "#A group of friends have decided to start a secret society. The name BaseExceptionwill be the first letter of each of their names, sorted in alphabetical order.Create a function that takes in a list of names and returns the name of the secret society.\n",
    "def alpha(a):\n",
    "    b=[]\n",
    "    for i in a:\n",
    "        b.append(i[0])\n",
    "    c=\"\".join(sorted(b))\n",
    "    return c\n",
    "        \n",
    "        \n",
    "            \n",
    "            \n",
    "            \n",
    "            \n",
    "            \n",
    "    \n",
    "      \n",
    "\n",
    "\n",
    "\n"
   ]
  },
  {
   "cell_type": "code",
   "execution_count": null,
   "id": "553fdf8c",
   "metadata": {},
   "outputs": [],
   "source": [
    "#An isogram is a word that has no duplicate letters. Create a function that takes a string and returns either True or False depending on whether or not it&#39;s an &quot;isogram&q\n",
    "def isogram(a):\n",
    "    if type(a)==str:\n",
    "        if len(a)==len(set(a)):\n",
    "            return True\n",
    "        else :\n",
    "            return False\n",
    "    else:\n",
    "        print(\"please enter only string\")\n",
    "    \n",
    "    \n",
    "    \n"
   ]
  },
  {
   "cell_type": "code",
   "execution_count": 15,
   "id": "09fe1cb1",
   "metadata": {},
   "outputs": [],
   "source": [
    " #Create a function that takes a string and returns True or False, depending on whether the characters are in order or not.\n",
    "def order(a):\n",
    "    if type(a)==str:\n",
    "        if a==\"\".join(sorted(a)):\n",
    "            return True \n",
    "        else:\n",
    "            return False\n",
    "    \n",
    "        \n",
    "\n"
   ]
  },
  {
   "cell_type": "code",
   "execution_count": 19,
   "id": "855fc8c2",
   "metadata": {},
   "outputs": [
    {
     "data": {
      "text/plain": [
       "True"
      ]
     },
     "execution_count": 19,
     "metadata": {},
     "output_type": "execute_result"
    }
   ],
   "source": [
    "order(\"apu\")"
   ]
  },
  {
   "cell_type": "code",
   "execution_count": null,
   "id": "20a20fae",
   "metadata": {},
   "outputs": [],
   "source": []
  },
  {
   "cell_type": "code",
   "execution_count": null,
   "id": "70f6f6a1",
   "metadata": {},
   "outputs": [],
   "source": []
  }
 ],
 "metadata": {
  "kernelspec": {
   "display_name": "Python 3",
   "language": "python",
   "name": "python3"
  },
  "language_info": {
   "codemirror_mode": {
    "name": "ipython",
    "version": 3
   },
   "file_extension": ".py",
   "mimetype": "text/x-python",
   "name": "python",
   "nbconvert_exporter": "python",
   "pygments_lexer": "ipython3",
   "version": "3.8.8"
  }
 },
 "nbformat": 4,
 "nbformat_minor": 5
}
