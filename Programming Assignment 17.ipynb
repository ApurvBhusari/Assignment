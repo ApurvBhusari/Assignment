{
 "cells": [
  {
   "cell_type": "code",
   "execution_count": null,
   "id": "06db9a74",
   "metadata": {},
   "outputs": [],
   "source": [
    "#Question1. Create a function that takes three arguments a, b, c and returns the sum of the numbers that are evenly divided by c from the range a, b inclusive.\n",
    "def sum(a,b,c):\n",
    "    for i in range(a,b+1):\n",
    "        if i%c==0:\n",
    "            print(i)\n",
    "        \n",
    "        "
   ]
  },
  {
   "cell_type": "code",
   "execution_count": null,
   "id": "f40a9677",
   "metadata": {},
   "outputs": [],
   "source": [
    "#Create a function that returns True if a given inequality expression is correct and False otherwise.\n",
    "def check(s):\n",
    "    regex=eval('s')\n",
    "    if regex:\n",
    "        return True\n",
    "    else:\n",
    "        return False \n"
   ]
  },
  {
   "cell_type": "code",
   "execution_count": 13,
   "id": "5fbc60dd",
   "metadata": {},
   "outputs": [],
   "source": [
    "#Create a function that replaces all the vowels in a string with a specified character.\n",
    "def replace_vowel(a,b):\n",
    "    l=\"aeiouAEIOU\"\n",
    "    for i in l :\n",
    "        a=a.replace(i,b)\n",
    "    return a   \n",
    "    "
   ]
  },
  {
   "cell_type": "code",
   "execution_count": 15,
   "id": "aa9cff80",
   "metadata": {},
   "outputs": [],
   "source": [
    "# Write a function that calculates the factorial of a number recursively.\n",
    "def recur_factorial(n):\n",
    "    if n == 1:\n",
    "         return n\n",
    "    else:\n",
    "         return n*recur_factorial(n-1)\n",
    "    \n",
    "    "
   ]
  },
  {
   "cell_type": "code",
   "execution_count": 37,
   "id": "6f2dd669",
   "metadata": {},
   "outputs": [],
   "source": [
    "#Create a function that computes the hamming distance between two strings.\n",
    "def ham_dis(a,b):\n",
    "    l=0\n",
    "    m=0\n",
    "    n=0\n",
    "    if len(a)==len(b):\n",
    "        while(l<len(a)):\n",
    "            if a[l]!=b[m]:\n",
    "                n+=1\n",
    "            l+=1\n",
    "            m=m+1   \n",
    "        return (n, \"is the hamming distance between two strings\") \n",
    "    else:\n",
    "        print(\"please check if both the strings length is equal\")\n",
    "            \n",
    "            "
   ]
  },
  {
   "cell_type": "code",
   "execution_count": 39,
   "id": "43309ea5",
   "metadata": {},
   "outputs": [
    {
     "data": {
      "text/plain": [
       "(0, 'is the hamming distance between two strings')"
      ]
     },
     "execution_count": 39,
     "metadata": {},
     "output_type": "execute_result"
    }
   ],
   "source": [
    "ham_dis(\"apurva\",\"apurva\")"
   ]
  },
  {
   "cell_type": "code",
   "execution_count": null,
   "id": "0f43c63a",
   "metadata": {},
   "outputs": [],
   "source": []
  }
 ],
 "metadata": {
  "kernelspec": {
   "display_name": "Python 3",
   "language": "python",
   "name": "python3"
  },
  "language_info": {
   "codemirror_mode": {
    "name": "ipython",
    "version": 3
   },
   "file_extension": ".py",
   "mimetype": "text/x-python",
   "name": "python",
   "nbconvert_exporter": "python",
   "pygments_lexer": "ipython3",
   "version": "3.8.8"
  }
 },
 "nbformat": 4,
 "nbformat_minor": 5
}
